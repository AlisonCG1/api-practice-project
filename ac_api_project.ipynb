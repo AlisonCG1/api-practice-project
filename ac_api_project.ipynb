{
 "cells": [
  {
   "cell_type": "code",
   "execution_count": 1,
   "id": "d4dffaaf",
   "metadata": {},
   "outputs": [
    {
     "ename": "ModuleNotFoundError",
     "evalue": "No module named 'geopandas'",
     "output_type": "error",
     "traceback": [
      "\u001b[0;31m---------------------------------------------------------------------------\u001b[0m",
      "\u001b[0;31mModuleNotFoundError\u001b[0m                       Traceback (most recent call last)",
      "\u001b[0;32m/var/folders/bk/4_dns4_x6z3_rrb8824x_td40000gn/T/ipykernel_27581/2523796989.py\u001b[0m in \u001b[0;36m<module>\u001b[0;34m\u001b[0m\n\u001b[1;32m      2\u001b[0m \u001b[0;32mimport\u001b[0m \u001b[0mmatplotlib\u001b[0m\u001b[0;34m.\u001b[0m\u001b[0mpyplot\u001b[0m \u001b[0;32mas\u001b[0m \u001b[0mplt\u001b[0m\u001b[0;34m\u001b[0m\u001b[0;34m\u001b[0m\u001b[0m\n\u001b[1;32m      3\u001b[0m \u001b[0;32mimport\u001b[0m \u001b[0mpandas\u001b[0m \u001b[0;32mas\u001b[0m \u001b[0mpd\u001b[0m\u001b[0;34m\u001b[0m\u001b[0;34m\u001b[0m\u001b[0m\n\u001b[0;32m----> 4\u001b[0;31m \u001b[0;32mimport\u001b[0m \u001b[0mgeopandas\u001b[0m \u001b[0;32mas\u001b[0m \u001b[0mgpd\u001b[0m\u001b[0;34m\u001b[0m\u001b[0;34m\u001b[0m\u001b[0m\n\u001b[0m\u001b[1;32m      5\u001b[0m \u001b[0;32mimport\u001b[0m \u001b[0mmatplotlib\u001b[0m\u001b[0;34m.\u001b[0m\u001b[0mpyplot\u001b[0m \u001b[0;32mas\u001b[0m \u001b[0mplt\u001b[0m\u001b[0;34m\u001b[0m\u001b[0;34m\u001b[0m\u001b[0m\n\u001b[1;32m      6\u001b[0m \u001b[0;32mimport\u001b[0m \u001b[0mfolium\u001b[0m\u001b[0;34m\u001b[0m\u001b[0;34m\u001b[0m\u001b[0m\n",
      "\u001b[0;31mModuleNotFoundError\u001b[0m: No module named 'geopandas'"
     ]
    }
   ],
   "source": [
    "import requests\n",
    "import matplotlib.pyplot as plt\n",
    "import pandas as pd\n",
    "import geopandas as gpd\n",
    "import matplotlib.pyplot as plt\n",
    "import folium\n",
    "from folium.plugins import MarkerCluster\n",
    "from folium.plugins import FastMarkerCluster"
   ]
  },
  {
   "cell_type": "markdown",
   "id": "53274a82",
   "metadata": {},
   "source": [
    "A dataset containing details about Metro Nashville Police Department reported incidents is available at https://data.nashville.gov/Police/Metro-Nashville-Police-Department-Incidents/2u6v-ujjs. Make use of the API to find all aggravated burglary incidents () that were reported during the nine month period from January 1, 2022 through September 30, 2021. (Hint: Check out the API Docs to see how to narrow down the response to just the desired results)."
   ]
  },
  {
   "cell_type": "code",
   "execution_count": null,
   "id": "aacfe43d",
   "metadata": {},
   "outputs": [],
   "source": [
    "#Bringing the API from TN police filtered by date and offense \n",
    "\n",
    "incident_reported = \"https://data.nashville.gov/resource/2u6v-ujjs.json?$where=incident_reported between '2022-01-01T00:00:00' and '2022-09-30T23:59:59'&offense_description=BURGLARY- AGGRAVATED\"\n",
    "response = requests.get(incident_reported)"
   ]
  },
  {
   "cell_type": "code",
   "execution_count": null,
   "id": "40cf5427",
   "metadata": {},
   "outputs": [],
   "source": [
    "response.text"
   ]
  },
  {
   "cell_type": "code",
   "execution_count": null,
   "id": "269c94a8",
   "metadata": {},
   "outputs": [],
   "source": [
    "res = response.json()\n",
    "res"
   ]
  },
  {
   "cell_type": "code",
   "execution_count": null,
   "id": "814f663b",
   "metadata": {},
   "outputs": [],
   "source": [
    "#converting the data into a df\n",
    "res_df = pd.DataFrame(response.json())\n",
    "res_df"
   ]
  },
  {
   "cell_type": "markdown",
   "id": "0f9b84c8",
   "metadata": {},
   "source": [
    "Using the 2020 American Community Survey API, obtain, for each census tract, the population (B01001_001E in the detailed tables) and the median income (S1901_C01_012E in the subject tables). Hint: Tennessee's FIPS code is 47 and Davidson County's FIPS code is 37."
   ]
  },
  {
   "cell_type": "code",
   "execution_count": null,
   "id": "0f24c916",
   "metadata": {},
   "outputs": [],
   "source": [
    "endpoint = 'https://api.census.gov/data/2020/acs/acs5/variables.html'\n",
    "\n",
    "response = requests.get(endpoint)"
   ]
  },
  {
   "cell_type": "code",
   "execution_count": null,
   "id": "1bf6c034",
   "metadata": {},
   "outputs": [],
   "source": [
    "census = f'https://api.census.gov/data/2020/acs/acs5?get=NAME,B01001_001E&for=tract:*&in=state:47'\n",
    "\n",
    "response = requests.get(census)\n",
    "\n",
    "response.text"
   ]
  },
  {
   "cell_type": "code",
   "execution_count": null,
   "id": "481db6ff",
   "metadata": {},
   "outputs": [],
   "source": [
    "tn_census = pd.DataFrame(response.json())\n",
    "tn_census"
   ]
  },
  {
   "cell_type": "code",
   "execution_count": null,
   "id": "1d343b00",
   "metadata": {},
   "outputs": [],
   "source": [
    "tn_census = tn_census.drop(labels=0, axis=0)"
   ]
  },
  {
   "cell_type": "code",
   "execution_count": null,
   "id": "ce03cda8",
   "metadata": {},
   "outputs": [],
   "source": [
    "tn_census = tn_census.rename(columns={0:'Name', 1:'Census', 2:'State_Code',\n",
    "                                     3:'County_Code', 4: 'Tract'})"
   ]
  },
  {
   "cell_type": "code",
   "execution_count": null,
   "id": "a8c35796",
   "metadata": {},
   "outputs": [],
   "source": [
    "tn_davidson_census = tn_census[tn_census['County_Code'] == '037']\n",
    "tn_davidson_census"
   ]
  },
  {
   "cell_type": "code",
   "execution_count": null,
   "id": "b32b6ed8",
   "metadata": {},
   "outputs": [],
   "source": [
    "# Question2: Median Income\n",
    "\n",
    "median_income = f'https://api.census.gov/data/2020/acs/acs5/subject?get=NAME,S1901_C01_012E&for=tract:*&in=state:47'\n",
    "\n",
    "response = requests.get(median_income)\n",
    "\n",
    "response.text"
   ]
  },
  {
   "cell_type": "markdown",
   "id": "5e8979f9",
   "metadata": {},
   "source": [
    "Perform a spatial join to determine the census tract in which each burglary incident occurred"
   ]
  },
  {
   "cell_type": "code",
   "execution_count": null,
   "id": "07aac89b",
   "metadata": {},
   "outputs": [],
   "source": [
    "median_income = f'https://api.census.gov/data/2020/acs/acs5/subject?get=NAME,S0101_C01_001E&for=tract:*&in=state:47'\n",
    "\n",
    "income_tn = requests.get(median_income)\n",
    "\n",
    "response.text"
   ]
  },
  {
   "cell_type": "code",
   "execution_count": null,
   "id": "6b5748ae",
   "metadata": {},
   "outputs": [],
   "source": [
    "#Bringing the file from census 2020\n",
    "\n",
    "census_track = gpd.read_file('./tl_2020_47_tract/')\n",
    "census_track.head(10)"
   ]
  },
  {
   "cell_type": "code",
   "execution_count": null,
   "id": "6a0d1231",
   "metadata": {},
   "outputs": [],
   "source": []
  },
  {
   "cell_type": "code",
   "execution_count": null,
   "id": "db08f550",
   "metadata": {},
   "outputs": [],
   "source": []
  }
 ],
 "metadata": {
  "kernelspec": {
   "display_name": "Python 3 (ipykernel)",
   "language": "python",
   "name": "python3"
  },
  "language_info": {
   "codemirror_mode": {
    "name": "ipython",
    "version": 3
   },
   "file_extension": ".py",
   "mimetype": "text/x-python",
   "name": "python",
   "nbconvert_exporter": "python",
   "pygments_lexer": "ipython3",
   "version": "3.9.7"
  }
 },
 "nbformat": 4,
 "nbformat_minor": 5
}
